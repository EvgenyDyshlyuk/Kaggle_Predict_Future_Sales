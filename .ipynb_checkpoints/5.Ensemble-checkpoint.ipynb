{
 "cells": [
  {
   "cell_type": "markdown",
   "metadata": {},
   "source": [
    "## 4. Ensembling\n",
    "Simple Linear Combination (Averaging) is used for ensemble\n",
    "\n",
    "Nice example of using LGBM XGB and CatBoost ensemble is here: https://www.kaggle.com/julian3833/2-quick-study-lgbm-xgb-and-catboost-lb-1-66"
   ]
  },
  {
   "cell_type": "code",
   "execution_count": 1,
   "metadata": {},
   "outputs": [
    {
     "name": "stdout",
     "output_type": "stream",
     "text": [
      "Upper level libraries loaded\n"
     ]
    }
   ],
   "source": [
    "%reset -f\n",
    "#reset magic function allows one to release all previously used memory. -f (force) parameter allows to run it without confirmation from the user\n",
    "\n",
    "%run lib\n",
    "\n",
    "# Load calculated values\n",
    "#y_pred_val_lgb = pickle.load(open(r'3. HPO/lgb_val.pkl', 'rb'))\n",
    "y_pred_test_lgb = pickle.load(open(r'3. HPO/lgb_test.pkl', 'rb'))\n",
    "\n",
    "#y_pred_val_xgb = pickle.load(open(r'3. HPO/xgb_val.pkl', 'rb'))\n",
    "y_pred_test_xgb = pickle.load(open(r'3. HPO/xgb_test.pkl', 'rb'))\n",
    "\n",
    "#y_pred_val_cat = pickle.load(open(r'3. HPO/cat_val.pkl', 'rb'))\n",
    "y_pred_test_cat = pickle.load(open(r'3. HPO/cat_test.pkl', 'rb'))\n",
    "\n",
    "#y_pred_val_nn = pickle.load(open(r'3. HPO/nn_val.pkl', 'rb'))\n",
    "y_pred_test_nn = pickle.load(open(r'3. HPO/nn_test.pkl', 'rb'))\n",
    "\n",
    "# Save the files to a new folder\n",
    "try: os.mkdir('4. Ensemble') # Try to create\n",
    "except FileExistsError: pass # if already exist pass"
   ]
  },
  {
   "cell_type": "code",
   "execution_count": 2,
   "metadata": {},
   "outputs": [],
   "source": [
    "# Simple linear combination\n",
    "ensemble_preds = 0.3 * y_pred_test_lgb + 0.3 * y_pred_test_cat + 0.3 * y_pred_test_nn +  0.1 * y_pred_test_xgb"
   ]
  },
  {
   "cell_type": "code",
   "execution_count": 3,
   "metadata": {},
   "outputs": [],
   "source": [
    "test = pd.read_csv('Data_input/test.csv.gz') # used for submission\n",
    "submission = pd.DataFrame({'ID': test.index, 'item_cnt_month': ensemble_preds})\n",
    "submission.to_csv(r'4. Ensemble/ens_submission.csv', index=False)"
   ]
  },
  {
   "cell_type": "markdown",
   "metadata": {},
   "source": [
    "8/10 Your public and private LB scores are: 0.965101 and 0.965140"
   ]
  }
 ],
 "metadata": {
  "kernelspec": {
   "display_name": "Python 3",
   "language": "python",
   "name": "python3"
  },
  "language_info": {
   "codemirror_mode": {
    "name": "ipython",
    "version": 3
   },
   "file_extension": ".py",
   "mimetype": "text/x-python",
   "name": "python",
   "nbconvert_exporter": "python",
   "pygments_lexer": "ipython3",
   "version": "3.7.3"
  }
 },
 "nbformat": 4,
 "nbformat_minor": 4
}
